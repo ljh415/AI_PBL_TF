{
 "cells": [
  {
   "cell_type": "code",
   "execution_count": 9,
   "metadata": {},
   "outputs": [],
   "source": [
    "import os\n",
    "import sys\n",
    "import json\n",
    "import pandas as pd\n",
    "import tensorflow as tf\n",
    "\n",
    "from glob import glob\n",
    "from tqdm import tqdm"
   ]
  },
  {
   "cell_type": "code",
   "execution_count": 6,
   "metadata": {},
   "outputs": [],
   "source": [
    "def open_file(path):\n",
    "    if 'csv' in path:\n",
    "        print(\"csv file\")\n",
    "        result = pd.read_csv(path)\n",
    "    elif 'json' in path:\n",
    "        print(\"json file\")\n",
    "        with open(path, 'r') as f:\n",
    "            result = json.load(f)\n",
    "    else :\n",
    "        return path\n",
    "    return result"
   ]
  },
  {
   "cell_type": "code",
   "execution_count": 7,
   "metadata": {},
   "outputs": [
    {
     "name": "stdout",
     "output_type": "stream",
     "text": [
      "csv file\n"
     ]
    }
   ],
   "source": [
    "df = open_file('/home/jaeho/Documents/ai_pbl_final/data/train.csv')"
   ]
  },
  {
   "cell_type": "code",
   "execution_count": 8,
   "metadata": {},
   "outputs": [
    {
     "data": {
      "text/html": [
       "<div>\n",
       "<style scoped>\n",
       "    .dataframe tbody tr th:only-of-type {\n",
       "        vertical-align: middle;\n",
       "    }\n",
       "\n",
       "    .dataframe tbody tr th {\n",
       "        vertical-align: top;\n",
       "    }\n",
       "\n",
       "    .dataframe thead th {\n",
       "        text-align: right;\n",
       "    }\n",
       "</style>\n",
       "<table border=\"1\" class=\"dataframe\">\n",
       "  <thead>\n",
       "    <tr style=\"text-align: right;\">\n",
       "      <th></th>\n",
       "      <th>image_path</th>\n",
       "      <th>bbox</th>\n",
       "      <th>labels</th>\n",
       "    </tr>\n",
       "  </thead>\n",
       "  <tbody>\n",
       "    <tr>\n",
       "      <th>0</th>\n",
       "      <td>/media/jaeho/SSD/datasets/pet_data/train/cat/i...</td>\n",
       "      <td>441,401,431,435</td>\n",
       "      <td>화남/불쾌</td>\n",
       "    </tr>\n",
       "    <tr>\n",
       "      <th>1</th>\n",
       "      <td>/media/jaeho/SSD/datasets/pet_data/train/cat/i...</td>\n",
       "      <td>447,358,472,443</td>\n",
       "      <td>화남/불쾌</td>\n",
       "    </tr>\n",
       "    <tr>\n",
       "      <th>2</th>\n",
       "      <td>/media/jaeho/SSD/datasets/pet_data/train/cat/i...</td>\n",
       "      <td>445,358,472,445</td>\n",
       "      <td>화남/불쾌</td>\n",
       "    </tr>\n",
       "    <tr>\n",
       "      <th>3</th>\n",
       "      <td>/media/jaeho/SSD/datasets/pet_data/train/cat/i...</td>\n",
       "      <td>183,428,704,749</td>\n",
       "      <td>화남/불쾌</td>\n",
       "    </tr>\n",
       "    <tr>\n",
       "      <th>4</th>\n",
       "      <td>/media/jaeho/SSD/datasets/pet_data/train/cat/i...</td>\n",
       "      <td>22,512,621,880</td>\n",
       "      <td>화남/불쾌</td>\n",
       "    </tr>\n",
       "  </tbody>\n",
       "</table>\n",
       "</div>"
      ],
      "text/plain": [
       "                                          image_path             bbox labels\n",
       "0  /media/jaeho/SSD/datasets/pet_data/train/cat/i...  441,401,431,435  화남/불쾌\n",
       "1  /media/jaeho/SSD/datasets/pet_data/train/cat/i...  447,358,472,443  화남/불쾌\n",
       "2  /media/jaeho/SSD/datasets/pet_data/train/cat/i...  445,358,472,445  화남/불쾌\n",
       "3  /media/jaeho/SSD/datasets/pet_data/train/cat/i...  183,428,704,749  화남/불쾌\n",
       "4  /media/jaeho/SSD/datasets/pet_data/train/cat/i...   22,512,621,880  화남/불쾌"
      ]
     },
     "execution_count": 8,
     "metadata": {},
     "output_type": "execute_result"
    }
   ],
   "source": [
    "df.head()"
   ]
  },
  {
   "cell_type": "code",
   "execution_count": 10,
   "metadata": {},
   "outputs": [
    {
     "name": "stderr",
     "output_type": "stream",
     "text": [
      "100%|██████████| 2128051/2128051 [1:21:41<00:00, 434.18it/s]\n"
     ]
    }
   ],
   "source": [
    "err_row = {}\n",
    "for idx, row in tqdm(df.iterrows(), total=len(df)):\n",
    "    img_path = row['image_path']\n",
    "    bbox_str = row['bbox']\n",
    "    bbox = tf.strings.split(bbox_str, \",\")\n",
    "    bbox = tf.strings.to_number(bbox, tf.int32)\n",
    "    img = tf.io.read_file(img_path)\n",
    "    try:\n",
    "        img = tf.io.decode_and_crop_jpeg(img, bbox)\n",
    "    except:\n",
    "        err_row[idx] = {\n",
    "            'image_path' : img_path,\n",
    "            'bbox' : bbox_str\n",
    "        }"
   ]
  },
  {
   "cell_type": "code",
   "execution_count": 11,
   "metadata": {},
   "outputs": [],
   "source": [
    "import pickle"
   ]
  },
  {
   "cell_type": "code",
   "execution_count": 12,
   "metadata": {},
   "outputs": [],
   "source": [
    "with open('./image_err.pickle', 'wb') as f:\n",
    "    pickle.dump(err_row, f, pickle.HIGHEST_PROTOCOL)"
   ]
  },
  {
   "cell_type": "code",
   "execution_count": null,
   "metadata": {},
   "outputs": [],
   "source": []
  }
 ],
 "metadata": {
  "kernelspec": {
   "display_name": "tensorflow",
   "language": "python",
   "name": "tf"
  },
  "language_info": {
   "codemirror_mode": {
    "name": "ipython",
    "version": 3
   },
   "file_extension": ".py",
   "mimetype": "text/x-python",
   "name": "python",
   "nbconvert_exporter": "python",
   "pygments_lexer": "ipython3",
   "version": "3.7.10"
  }
 },
 "nbformat": 4,
 "nbformat_minor": 4
}
