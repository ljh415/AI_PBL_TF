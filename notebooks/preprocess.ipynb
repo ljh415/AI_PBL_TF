{
 "cells": [
  {
   "cell_type": "code",
   "execution_count": 4,
   "metadata": {},
   "outputs": [],
   "source": [
    "import sys\n",
    "sys.path.append('../')\n",
    "\n",
    "import os\n",
    "import pandas as pd\n",
    "\n",
    "from glob import glob\n",
    "from tqdm import tqdm\n",
    "from collections import defaultdict\n",
    "\n",
    "from utils import *"
   ]
  },
  {
   "cell_type": "code",
   "execution_count": 5,
   "metadata": {},
   "outputs": [],
   "source": [
    "data_dir = '/media/jaeho/SSD/datasets/pet_data'\n",
    "train_dir = os.path.join(data_dir, 'train')\n",
    "valid_dir = os.path.join(data_dir, 'val')"
   ]
  },
  {
   "cell_type": "code",
   "execution_count": 7,
   "metadata": {},
   "outputs": [
    {
     "name": "stdout",
     "output_type": "stream",
     "text": [
      "train\n"
     ]
    },
    {
     "name": "stderr",
     "output_type": "stream",
     "text": [
      "100%|██████████| 61081/61081 [06:13<00:00, 163.45it/s]\n"
     ]
    },
    {
     "name": "stdout",
     "output_type": "stream",
     "text": [
      "{\n",
      "  \"화남/불쾌\": 74578,\n",
      "  \"공포\": 4795,\n",
      "  \"행복/즐거움\": 515248,\n",
      "  \"편안/안정\": 1364794,\n",
      "  \"공격성\": 115619,\n",
      "  \"불안/슬픔\": 52928\n",
      "}\n",
      "val\n"
     ]
    },
    {
     "name": "stderr",
     "output_type": "stream",
     "text": [
      "100%|██████████| 7649/7649 [01:27<00:00, 87.07it/s] \n"
     ]
    },
    {
     "name": "stdout",
     "output_type": "stream",
     "text": [
      "{\n",
      "  \"편안/안정\": 466171,\n",
      "  \"공격성\": 16207,\n",
      "  \"공포\": 2606,\n",
      "  \"화남/불쾌\": 25181,\n",
      "  \"행복/즐거움\": 219600,\n",
      "  \"불안/슬픔\": 27313\n",
      "}\n"
     ]
    }
   ],
   "source": [
    "df_dict = {}\n",
    "err_cnt = 0\n",
    "\n",
    "for task in ['train', 'val']:\n",
    "    print(task)\n",
    "    json_paths = glob(os.path.join(data_dir, task, '*', 'labels', '*', '*'))\n",
    "    \n",
    "    data_dict = defaultdict(list)\n",
    "    label_cnt = defaultdict(int)\n",
    "    for json_path in tqdm(json_paths):\n",
    "        # load image_paths\n",
    "        target_dir_name = os.path.basename(json_path).replace('.json', '')\n",
    "        img_dir = json_path.replace(\"labels\", \"images\").replace(\".json\", \"\")\n",
    "\n",
    "        # open json\n",
    "        js = open_json(json_path)\n",
    "        emotion = js['metadata']['inspect']['emotion']\n",
    "\n",
    "        for anno in js['annotations']:\n",
    "            frame_num = anno['frame_number']\n",
    "            time_stamp = anno['timestamp']\n",
    "            img_path = f\"frame_{frame_num}_timestamp_{time_stamp}.jpg\"\n",
    "            img_path = os.path.join(img_dir, img_path)\n",
    "            if not os.path.exists((img_path)):\n",
    "                continue\n",
    "\n",
    "            bbox = convert_bbox_info(anno['bounding_box'])\n",
    "            int_bbox = list(map(int, bbox))\n",
    "            if min(int_bbox) < 0:\n",
    "                err_cnt += 1\n",
    "                continue\n",
    "            \n",
    "            data_dict['image_path'].append(img_path)\n",
    "            data_dict['bbox'].append(','.join(bbox))\n",
    "            data_dict['labels'].append(emotion)\n",
    "            label_cnt[emotion] += 1\n",
    "    \n",
    "    df_dict[task] = {\n",
    "        'dataframe' : pd.DataFrame(data_dict),\n",
    "        'count' : label_cnt\n",
    "    }\n",
    "    print(json.dumps(label_cnt, indent=2, ensure_ascii=False))"
   ]
  },
  {
   "cell_type": "code",
   "execution_count": 8,
   "metadata": {},
   "outputs": [
    {
     "data": {
      "text/plain": [
       "124"
      ]
     },
     "execution_count": 8,
     "metadata": {},
     "output_type": "execute_result"
    }
   ],
   "source": [
    "err_cnt"
   ]
  },
  {
   "cell_type": "code",
   "execution_count": 9,
   "metadata": {},
   "outputs": [],
   "source": [
    "for task in df_dict:\n",
    "    df_dict[task]['dataframe'].to_csv(f'../data/{task}.csv', index=False)"
   ]
  },
  {
   "cell_type": "code",
   "execution_count": null,
   "metadata": {},
   "outputs": [],
   "source": []
  }
 ],
 "metadata": {
  "interpreter": {
   "hash": "a1c1008d7617819e6bc30466e392d2d4440c56e3dfe69c3d457b50176c1c3c8b"
  },
  "kernelspec": {
   "display_name": "tensorflow",
   "language": "python",
   "name": "tf"
  },
  "language_info": {
   "codemirror_mode": {
    "name": "ipython",
    "version": 3
   },
   "file_extension": ".py",
   "mimetype": "text/x-python",
   "name": "python",
   "nbconvert_exporter": "python",
   "pygments_lexer": "ipython3",
   "version": "3.7.10"
  }
 },
 "nbformat": 4,
 "nbformat_minor": 4
}
