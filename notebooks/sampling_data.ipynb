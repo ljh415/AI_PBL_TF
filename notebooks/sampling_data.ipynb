{
 "cells": [
  {
   "cell_type": "markdown",
   "metadata": {},
   "source": [
    "# sampling_data.ipynb\n",
    "---\n",
    "현재 학습데이터가 너무 많기에 학습데이터를 sampling하는 전처리 추가  "
   ]
  },
  {
   "cell_type": "code",
   "execution_count": 1,
   "metadata": {},
   "outputs": [],
   "source": [
    "import os\n",
    "import sys\n",
    "import json\n",
    "import pandas as pd\n",
    "\n",
    "from tqdm import tqdm\n",
    "from glob import glob\n",
    "from collections import defaultdict"
   ]
  },
  {
   "cell_type": "markdown",
   "metadata": {},
   "source": [
    "## 현재 학습데이터 로드"
   ]
  },
  {
   "cell_type": "code",
   "execution_count": 15,
   "metadata": {},
   "outputs": [],
   "source": [
    "train_df = pd.read_csv('../data/train.csv')"
   ]
  },
  {
   "cell_type": "code",
   "execution_count": 16,
   "metadata": {},
   "outputs": [
    {
     "data": {
      "text/html": [
       "<div>\n",
       "<style scoped>\n",
       "    .dataframe tbody tr th:only-of-type {\n",
       "        vertical-align: middle;\n",
       "    }\n",
       "\n",
       "    .dataframe tbody tr th {\n",
       "        vertical-align: top;\n",
       "    }\n",
       "\n",
       "    .dataframe thead th {\n",
       "        text-align: right;\n",
       "    }\n",
       "</style>\n",
       "<table border=\"1\" class=\"dataframe\">\n",
       "  <thead>\n",
       "    <tr style=\"text-align: right;\">\n",
       "      <th></th>\n",
       "      <th>image_path</th>\n",
       "      <th>bbox</th>\n",
       "      <th>labels</th>\n",
       "    </tr>\n",
       "  </thead>\n",
       "  <tbody>\n",
       "    <tr>\n",
       "      <th>0</th>\n",
       "      <td>/media/jaeho/SSD/datasets/pet_data/train/cat/i...</td>\n",
       "      <td>401,441,431,435</td>\n",
       "      <td>화남/불쾌</td>\n",
       "    </tr>\n",
       "    <tr>\n",
       "      <th>1</th>\n",
       "      <td>/media/jaeho/SSD/datasets/pet_data/train/cat/i...</td>\n",
       "      <td>358,447,472,443</td>\n",
       "      <td>화남/불쾌</td>\n",
       "    </tr>\n",
       "    <tr>\n",
       "      <th>2</th>\n",
       "      <td>/media/jaeho/SSD/datasets/pet_data/train/cat/i...</td>\n",
       "      <td>358,445,472,445</td>\n",
       "      <td>화남/불쾌</td>\n",
       "    </tr>\n",
       "    <tr>\n",
       "      <th>3</th>\n",
       "      <td>/media/jaeho/SSD/datasets/pet_data/train/cat/i...</td>\n",
       "      <td>428,183,704,749</td>\n",
       "      <td>화남/불쾌</td>\n",
       "    </tr>\n",
       "    <tr>\n",
       "      <th>4</th>\n",
       "      <td>/media/jaeho/SSD/datasets/pet_data/train/cat/i...</td>\n",
       "      <td>512,22,621,880</td>\n",
       "      <td>화남/불쾌</td>\n",
       "    </tr>\n",
       "    <tr>\n",
       "      <th>...</th>\n",
       "      <td>...</td>\n",
       "      <td>...</td>\n",
       "      <td>...</td>\n",
       "    </tr>\n",
       "    <tr>\n",
       "      <th>2128046</th>\n",
       "      <td>/media/jaeho/SSD/datasets/pet_data/train/dog/i...</td>\n",
       "      <td>412,43,1096,1011</td>\n",
       "      <td>행복/즐거움</td>\n",
       "    </tr>\n",
       "    <tr>\n",
       "      <th>2128047</th>\n",
       "      <td>/media/jaeho/SSD/datasets/pet_data/train/dog/i...</td>\n",
       "      <td>524,102,1094,949</td>\n",
       "      <td>행복/즐거움</td>\n",
       "    </tr>\n",
       "    <tr>\n",
       "      <th>2128048</th>\n",
       "      <td>/media/jaeho/SSD/datasets/pet_data/train/dog/i...</td>\n",
       "      <td>541,410,974,550</td>\n",
       "      <td>행복/즐거움</td>\n",
       "    </tr>\n",
       "    <tr>\n",
       "      <th>2128049</th>\n",
       "      <td>/media/jaeho/SSD/datasets/pet_data/train/dog/i...</td>\n",
       "      <td>517,342,976,532</td>\n",
       "      <td>행복/즐거움</td>\n",
       "    </tr>\n",
       "    <tr>\n",
       "      <th>2128050</th>\n",
       "      <td>/media/jaeho/SSD/datasets/pet_data/train/dog/i...</td>\n",
       "      <td>505,233,994,533</td>\n",
       "      <td>행복/즐거움</td>\n",
       "    </tr>\n",
       "  </tbody>\n",
       "</table>\n",
       "<p>2128051 rows × 3 columns</p>\n",
       "</div>"
      ],
      "text/plain": [
       "                                                image_path              bbox  \\\n",
       "0        /media/jaeho/SSD/datasets/pet_data/train/cat/i...   401,441,431,435   \n",
       "1        /media/jaeho/SSD/datasets/pet_data/train/cat/i...   358,447,472,443   \n",
       "2        /media/jaeho/SSD/datasets/pet_data/train/cat/i...   358,445,472,445   \n",
       "3        /media/jaeho/SSD/datasets/pet_data/train/cat/i...   428,183,704,749   \n",
       "4        /media/jaeho/SSD/datasets/pet_data/train/cat/i...    512,22,621,880   \n",
       "...                                                    ...               ...   \n",
       "2128046  /media/jaeho/SSD/datasets/pet_data/train/dog/i...  412,43,1096,1011   \n",
       "2128047  /media/jaeho/SSD/datasets/pet_data/train/dog/i...  524,102,1094,949   \n",
       "2128048  /media/jaeho/SSD/datasets/pet_data/train/dog/i...   541,410,974,550   \n",
       "2128049  /media/jaeho/SSD/datasets/pet_data/train/dog/i...   517,342,976,532   \n",
       "2128050  /media/jaeho/SSD/datasets/pet_data/train/dog/i...   505,233,994,533   \n",
       "\n",
       "         labels  \n",
       "0         화남/불쾌  \n",
       "1         화남/불쾌  \n",
       "2         화남/불쾌  \n",
       "3         화남/불쾌  \n",
       "4         화남/불쾌  \n",
       "...         ...  \n",
       "2128046  행복/즐거움  \n",
       "2128047  행복/즐거움  \n",
       "2128048  행복/즐거움  \n",
       "2128049  행복/즐거움  \n",
       "2128050  행복/즐거움  \n",
       "\n",
       "[2128051 rows x 3 columns]"
      ]
     },
     "execution_count": 16,
     "metadata": {},
     "output_type": "execute_result"
    }
   ],
   "source": [
    "train_df"
   ]
  },
  {
   "cell_type": "markdown",
   "metadata": {},
   "source": [
    "총 데이터 212만장"
   ]
  },
  {
   "cell_type": "code",
   "execution_count": 5,
   "metadata": {},
   "outputs": [
    {
     "data": {
      "text/plain": [
       "{0: '화남/불쾌', 1: '공포', 2: '행복/즐거움', 3: '편안/안정', 4: '공격성', 5: '불안/슬픔'}"
      ]
     },
     "execution_count": 5,
     "metadata": {},
     "output_type": "execute_result"
    }
   ],
   "source": [
    "label_map = train_df['labels'].unique()\n",
    "label_map = {idx:label for idx, label in enumerate(label_map)}\n",
    "label_map"
   ]
  },
  {
   "cell_type": "code",
   "execution_count": 6,
   "metadata": {},
   "outputs": [
    {
     "data": {
      "text/plain": [
       "{'화남/불쾌': 0, '공포': 1, '행복/즐거움': 2, '편안/안정': 3, '공격성': 4, '불안/슬픔': 5}"
      ]
     },
     "execution_count": 6,
     "metadata": {},
     "output_type": "execute_result"
    }
   ],
   "source": [
    "inverted_label_map = train_df['labels'].unique()\n",
    "inverted_label_map = {label:idx for idx, label in enumerate(inverted_label_map)}\n",
    "inverted_label_map"
   ]
  },
  {
   "cell_type": "code",
   "execution_count": 7,
   "metadata": {},
   "outputs": [
    {
     "name": "stderr",
     "output_type": "stream",
     "text": [
      "100%|██████████| 2128051/2128051 [01:22<00:00, 25697.39it/s]\n"
     ]
    }
   ],
   "source": [
    "data_dict = defaultdict(list)\n",
    "for idx, row in tqdm(train_df.iterrows(), total=len(train_df)):\n",
    "    label = row['labels']\n",
    "    int_label = inverted_label_map[label]\n",
    "    data_dict[int_label].append(dict(row))"
   ]
  },
  {
   "cell_type": "code",
   "execution_count": 8,
   "metadata": {},
   "outputs": [
    {
     "data": {
      "text/plain": [
       "dict_keys([0, 1, 2, 3, 4, 5])"
      ]
     },
     "execution_count": 8,
     "metadata": {},
     "output_type": "execute_result"
    }
   ],
   "source": [
    "data_dict.keys()"
   ]
  },
  {
   "cell_type": "code",
   "execution_count": 9,
   "metadata": {},
   "outputs": [
    {
     "name": "stdout",
     "output_type": "stream",
     "text": [
      "0 : 74579\n",
      "1 : 4795\n",
      "2 : 515278\n",
      "3 : 1364848\n",
      "4 : 115619\n",
      "5 : 52932\n"
     ]
    }
   ],
   "source": [
    "for label, data_list in data_dict.items():\n",
    "    print(f\"{label} : {len(data_list)}\")"
   ]
  },
  {
   "cell_type": "markdown",
   "metadata": {},
   "source": [
    "데이터의 imbalance가 심하다.  \n",
    "class_weight가 있어서 활용 가능할 듯  \n",
    "[링크](https://www.tensorflow.org/tutorials/structured_data/imbalanced_data?hl=ko)"
   ]
  },
  {
   "cell_type": "markdown",
   "metadata": {},
   "source": [
    "랜덤하게 샘플링하기위해서 사이킷런 활용"
   ]
  },
  {
   "cell_type": "code",
   "execution_count": 17,
   "metadata": {},
   "outputs": [],
   "source": [
    "train_df['labels'] = train_df['labels'].apply(lambda x: inverted_label_map[x])"
   ]
  },
  {
   "cell_type": "code",
   "execution_count": 18,
   "metadata": {},
   "outputs": [
    {
     "data": {
      "text/html": [
       "<div>\n",
       "<style scoped>\n",
       "    .dataframe tbody tr th:only-of-type {\n",
       "        vertical-align: middle;\n",
       "    }\n",
       "\n",
       "    .dataframe tbody tr th {\n",
       "        vertical-align: top;\n",
       "    }\n",
       "\n",
       "    .dataframe thead th {\n",
       "        text-align: right;\n",
       "    }\n",
       "</style>\n",
       "<table border=\"1\" class=\"dataframe\">\n",
       "  <thead>\n",
       "    <tr style=\"text-align: right;\">\n",
       "      <th></th>\n",
       "      <th>image_path</th>\n",
       "      <th>bbox</th>\n",
       "      <th>labels</th>\n",
       "    </tr>\n",
       "  </thead>\n",
       "  <tbody>\n",
       "    <tr>\n",
       "      <th>0</th>\n",
       "      <td>/media/jaeho/SSD/datasets/pet_data/train/cat/i...</td>\n",
       "      <td>401,441,431,435</td>\n",
       "      <td>0</td>\n",
       "    </tr>\n",
       "    <tr>\n",
       "      <th>1</th>\n",
       "      <td>/media/jaeho/SSD/datasets/pet_data/train/cat/i...</td>\n",
       "      <td>358,447,472,443</td>\n",
       "      <td>0</td>\n",
       "    </tr>\n",
       "    <tr>\n",
       "      <th>2</th>\n",
       "      <td>/media/jaeho/SSD/datasets/pet_data/train/cat/i...</td>\n",
       "      <td>358,445,472,445</td>\n",
       "      <td>0</td>\n",
       "    </tr>\n",
       "    <tr>\n",
       "      <th>3</th>\n",
       "      <td>/media/jaeho/SSD/datasets/pet_data/train/cat/i...</td>\n",
       "      <td>428,183,704,749</td>\n",
       "      <td>0</td>\n",
       "    </tr>\n",
       "    <tr>\n",
       "      <th>4</th>\n",
       "      <td>/media/jaeho/SSD/datasets/pet_data/train/cat/i...</td>\n",
       "      <td>512,22,621,880</td>\n",
       "      <td>0</td>\n",
       "    </tr>\n",
       "  </tbody>\n",
       "</table>\n",
       "</div>"
      ],
      "text/plain": [
       "                                          image_path             bbox  labels\n",
       "0  /media/jaeho/SSD/datasets/pet_data/train/cat/i...  401,441,431,435       0\n",
       "1  /media/jaeho/SSD/datasets/pet_data/train/cat/i...  358,447,472,443       0\n",
       "2  /media/jaeho/SSD/datasets/pet_data/train/cat/i...  358,445,472,445       0\n",
       "3  /media/jaeho/SSD/datasets/pet_data/train/cat/i...  428,183,704,749       0\n",
       "4  /media/jaeho/SSD/datasets/pet_data/train/cat/i...   512,22,621,880       0"
      ]
     },
     "execution_count": 18,
     "metadata": {},
     "output_type": "execute_result"
    }
   ],
   "source": [
    "train_df.head()"
   ]
  },
  {
   "cell_type": "code",
   "execution_count": 19,
   "metadata": {},
   "outputs": [],
   "source": [
    "from sklearn.model_selection import train_test_split"
   ]
  },
  {
   "cell_type": "code",
   "execution_count": 20,
   "metadata": {},
   "outputs": [],
   "source": [
    "x_train_1, x_train_2, y_train_1, y_train_2 = train_test_split(train_df[train_df.columns.difference(['labels'])], train_df['labels'], test_size=0.5, shuffle=True, stratify=train_df['labels'], random_state=94)"
   ]
  },
  {
   "cell_type": "code",
   "execution_count": 21,
   "metadata": {},
   "outputs": [
    {
     "data": {
      "text/plain": [
       "834165     3\n",
       "438897     3\n",
       "1965141    2\n",
       "1449433    3\n",
       "357986     4\n",
       "          ..\n",
       "2096884    3\n",
       "843757     3\n",
       "2066519    3\n",
       "561354     2\n",
       "1507047    3\n",
       "Name: labels, Length: 1064025, dtype: int64"
      ]
     },
     "execution_count": 21,
     "metadata": {},
     "output_type": "execute_result"
    }
   ],
   "source": [
    "y_train_1"
   ]
  },
  {
   "cell_type": "code",
   "execution_count": 22,
   "metadata": {},
   "outputs": [
    {
     "data": {
      "text/html": [
       "<div>\n",
       "<style scoped>\n",
       "    .dataframe tbody tr th:only-of-type {\n",
       "        vertical-align: middle;\n",
       "    }\n",
       "\n",
       "    .dataframe tbody tr th {\n",
       "        vertical-align: top;\n",
       "    }\n",
       "\n",
       "    .dataframe thead th {\n",
       "        text-align: right;\n",
       "    }\n",
       "</style>\n",
       "<table border=\"1\" class=\"dataframe\">\n",
       "  <thead>\n",
       "    <tr style=\"text-align: right;\">\n",
       "      <th></th>\n",
       "      <th>bbox</th>\n",
       "      <th>image_path</th>\n",
       "      <th>labels</th>\n",
       "    </tr>\n",
       "  </thead>\n",
       "  <tbody>\n",
       "    <tr>\n",
       "      <th>834165</th>\n",
       "      <td>343,33,871,1015</td>\n",
       "      <td>/media/jaeho/SSD/datasets/pet_data/train/cat/i...</td>\n",
       "      <td>3</td>\n",
       "    </tr>\n",
       "    <tr>\n",
       "      <th>438897</th>\n",
       "      <td>570,168,198,402</td>\n",
       "      <td>/media/jaeho/SSD/datasets/pet_data/train/cat/i...</td>\n",
       "      <td>3</td>\n",
       "    </tr>\n",
       "    <tr>\n",
       "      <th>1965141</th>\n",
       "      <td>292,484,740,998</td>\n",
       "      <td>/media/jaeho/SSD/datasets/pet_data/train/dog/i...</td>\n",
       "      <td>2</td>\n",
       "    </tr>\n",
       "    <tr>\n",
       "      <th>1449433</th>\n",
       "      <td>730,430,653,496</td>\n",
       "      <td>/media/jaeho/SSD/datasets/pet_data/train/cat/i...</td>\n",
       "      <td>3</td>\n",
       "    </tr>\n",
       "    <tr>\n",
       "      <th>357986</th>\n",
       "      <td>343,103,470,311</td>\n",
       "      <td>/media/jaeho/SSD/datasets/pet_data/train/cat/i...</td>\n",
       "      <td>4</td>\n",
       "    </tr>\n",
       "    <tr>\n",
       "      <th>...</th>\n",
       "      <td>...</td>\n",
       "      <td>...</td>\n",
       "      <td>...</td>\n",
       "    </tr>\n",
       "    <tr>\n",
       "      <th>2096884</th>\n",
       "      <td>1124,0,184,237</td>\n",
       "      <td>/media/jaeho/SSD/datasets/pet_data/train/dog/i...</td>\n",
       "      <td>3</td>\n",
       "    </tr>\n",
       "    <tr>\n",
       "      <th>843757</th>\n",
       "      <td>280,113,1392,769</td>\n",
       "      <td>/media/jaeho/SSD/datasets/pet_data/train/cat/i...</td>\n",
       "      <td>3</td>\n",
       "    </tr>\n",
       "    <tr>\n",
       "      <th>2066519</th>\n",
       "      <td>341,144,408,513</td>\n",
       "      <td>/media/jaeho/SSD/datasets/pet_data/train/dog/i...</td>\n",
       "      <td>3</td>\n",
       "    </tr>\n",
       "    <tr>\n",
       "      <th>561354</th>\n",
       "      <td>563,57,1192,999</td>\n",
       "      <td>/media/jaeho/SSD/datasets/pet_data/train/cat/i...</td>\n",
       "      <td>2</td>\n",
       "    </tr>\n",
       "    <tr>\n",
       "      <th>1507047</th>\n",
       "      <td>302,9,664,596</td>\n",
       "      <td>/media/jaeho/SSD/datasets/pet_data/train/cat/i...</td>\n",
       "      <td>3</td>\n",
       "    </tr>\n",
       "  </tbody>\n",
       "</table>\n",
       "<p>1064025 rows × 3 columns</p>\n",
       "</div>"
      ],
      "text/plain": [
       "                     bbox                                         image_path  \\\n",
       "834165    343,33,871,1015  /media/jaeho/SSD/datasets/pet_data/train/cat/i...   \n",
       "438897    570,168,198,402  /media/jaeho/SSD/datasets/pet_data/train/cat/i...   \n",
       "1965141   292,484,740,998  /media/jaeho/SSD/datasets/pet_data/train/dog/i...   \n",
       "1449433   730,430,653,496  /media/jaeho/SSD/datasets/pet_data/train/cat/i...   \n",
       "357986    343,103,470,311  /media/jaeho/SSD/datasets/pet_data/train/cat/i...   \n",
       "...                   ...                                                ...   \n",
       "2096884    1124,0,184,237  /media/jaeho/SSD/datasets/pet_data/train/dog/i...   \n",
       "843757   280,113,1392,769  /media/jaeho/SSD/datasets/pet_data/train/cat/i...   \n",
       "2066519   341,144,408,513  /media/jaeho/SSD/datasets/pet_data/train/dog/i...   \n",
       "561354    563,57,1192,999  /media/jaeho/SSD/datasets/pet_data/train/cat/i...   \n",
       "1507047     302,9,664,596  /media/jaeho/SSD/datasets/pet_data/train/cat/i...   \n",
       "\n",
       "         labels  \n",
       "834165        3  \n",
       "438897        3  \n",
       "1965141       2  \n",
       "1449433       3  \n",
       "357986        4  \n",
       "...         ...  \n",
       "2096884       3  \n",
       "843757        3  \n",
       "2066519       3  \n",
       "561354        2  \n",
       "1507047       3  \n",
       "\n",
       "[1064025 rows x 3 columns]"
      ]
     },
     "execution_count": 22,
     "metadata": {},
     "output_type": "execute_result"
    }
   ],
   "source": [
    "x_train_1['labels'] = y_train_1\n",
    "x_train_1"
   ]
  },
  {
   "cell_type": "code",
   "execution_count": 23,
   "metadata": {},
   "outputs": [],
   "source": [
    "x_train_1.to_csv('../data/sampled_train_1.csv', index=False)"
   ]
  },
  {
   "cell_type": "code",
   "execution_count": 24,
   "metadata": {},
   "outputs": [
    {
     "data": {
      "text/html": [
       "<div>\n",
       "<style scoped>\n",
       "    .dataframe tbody tr th:only-of-type {\n",
       "        vertical-align: middle;\n",
       "    }\n",
       "\n",
       "    .dataframe tbody tr th {\n",
       "        vertical-align: top;\n",
       "    }\n",
       "\n",
       "    .dataframe thead th {\n",
       "        text-align: right;\n",
       "    }\n",
       "</style>\n",
       "<table border=\"1\" class=\"dataframe\">\n",
       "  <thead>\n",
       "    <tr style=\"text-align: right;\">\n",
       "      <th></th>\n",
       "      <th>bbox</th>\n",
       "      <th>image_path</th>\n",
       "      <th>labels</th>\n",
       "    </tr>\n",
       "  </thead>\n",
       "  <tbody>\n",
       "    <tr>\n",
       "      <th>1253152</th>\n",
       "      <td>298,64,670,1352</td>\n",
       "      <td>/media/jaeho/SSD/datasets/pet_data/train/cat/i...</td>\n",
       "      <td>0</td>\n",
       "    </tr>\n",
       "    <tr>\n",
       "      <th>871986</th>\n",
       "      <td>852,5,582,1073</td>\n",
       "      <td>/media/jaeho/SSD/datasets/pet_data/train/cat/i...</td>\n",
       "      <td>3</td>\n",
       "    </tr>\n",
       "    <tr>\n",
       "      <th>783716</th>\n",
       "      <td>765,8,622,1047</td>\n",
       "      <td>/media/jaeho/SSD/datasets/pet_data/train/cat/i...</td>\n",
       "      <td>3</td>\n",
       "    </tr>\n",
       "    <tr>\n",
       "      <th>1536826</th>\n",
       "      <td>541,137,334,286</td>\n",
       "      <td>/media/jaeho/SSD/datasets/pet_data/train/cat/i...</td>\n",
       "      <td>2</td>\n",
       "    </tr>\n",
       "    <tr>\n",
       "      <th>1767514</th>\n",
       "      <td>278,329,1171,551</td>\n",
       "      <td>/media/jaeho/SSD/datasets/pet_data/train/dog/i...</td>\n",
       "      <td>3</td>\n",
       "    </tr>\n",
       "    <tr>\n",
       "      <th>...</th>\n",
       "      <td>...</td>\n",
       "      <td>...</td>\n",
       "      <td>...</td>\n",
       "    </tr>\n",
       "    <tr>\n",
       "      <th>447688</th>\n",
       "      <td>326,196,862,620</td>\n",
       "      <td>/media/jaeho/SSD/datasets/pet_data/train/cat/i...</td>\n",
       "      <td>3</td>\n",
       "    </tr>\n",
       "    <tr>\n",
       "      <th>2019609</th>\n",
       "      <td>32,19,1153,855</td>\n",
       "      <td>/media/jaeho/SSD/datasets/pet_data/train/dog/i...</td>\n",
       "      <td>2</td>\n",
       "    </tr>\n",
       "    <tr>\n",
       "      <th>496507</th>\n",
       "      <td>411,79,1019,974</td>\n",
       "      <td>/media/jaeho/SSD/datasets/pet_data/train/cat/i...</td>\n",
       "      <td>3</td>\n",
       "    </tr>\n",
       "    <tr>\n",
       "      <th>1873272</th>\n",
       "      <td>495,8,772,602</td>\n",
       "      <td>/media/jaeho/SSD/datasets/pet_data/train/dog/i...</td>\n",
       "      <td>0</td>\n",
       "    </tr>\n",
       "    <tr>\n",
       "      <th>982716</th>\n",
       "      <td>507,334,675,695</td>\n",
       "      <td>/media/jaeho/SSD/datasets/pet_data/train/cat/i...</td>\n",
       "      <td>3</td>\n",
       "    </tr>\n",
       "  </tbody>\n",
       "</table>\n",
       "<p>1064026 rows × 3 columns</p>\n",
       "</div>"
      ],
      "text/plain": [
       "                     bbox                                         image_path  \\\n",
       "1253152   298,64,670,1352  /media/jaeho/SSD/datasets/pet_data/train/cat/i...   \n",
       "871986     852,5,582,1073  /media/jaeho/SSD/datasets/pet_data/train/cat/i...   \n",
       "783716     765,8,622,1047  /media/jaeho/SSD/datasets/pet_data/train/cat/i...   \n",
       "1536826   541,137,334,286  /media/jaeho/SSD/datasets/pet_data/train/cat/i...   \n",
       "1767514  278,329,1171,551  /media/jaeho/SSD/datasets/pet_data/train/dog/i...   \n",
       "...                   ...                                                ...   \n",
       "447688    326,196,862,620  /media/jaeho/SSD/datasets/pet_data/train/cat/i...   \n",
       "2019609    32,19,1153,855  /media/jaeho/SSD/datasets/pet_data/train/dog/i...   \n",
       "496507    411,79,1019,974  /media/jaeho/SSD/datasets/pet_data/train/cat/i...   \n",
       "1873272     495,8,772,602  /media/jaeho/SSD/datasets/pet_data/train/dog/i...   \n",
       "982716    507,334,675,695  /media/jaeho/SSD/datasets/pet_data/train/cat/i...   \n",
       "\n",
       "         labels  \n",
       "1253152       0  \n",
       "871986        3  \n",
       "783716        3  \n",
       "1536826       2  \n",
       "1767514       3  \n",
       "...         ...  \n",
       "447688        3  \n",
       "2019609       2  \n",
       "496507        3  \n",
       "1873272       0  \n",
       "982716        3  \n",
       "\n",
       "[1064026 rows x 3 columns]"
      ]
     },
     "execution_count": 24,
     "metadata": {},
     "output_type": "execute_result"
    }
   ],
   "source": [
    "x_train_2['labels'] = y_train_2\n",
    "x_train_2"
   ]
  },
  {
   "cell_type": "code",
   "execution_count": 25,
   "metadata": {},
   "outputs": [],
   "source": [
    "x_train_2.to_csv('../data/sampled_train_2.csv', index=False)"
   ]
  },
  {
   "cell_type": "code",
   "execution_count": null,
   "metadata": {},
   "outputs": [],
   "source": []
  },
  {
   "cell_type": "code",
   "execution_count": null,
   "metadata": {},
   "outputs": [],
   "source": []
  },
  {
   "cell_type": "code",
   "execution_count": 26,
   "metadata": {},
   "outputs": [],
   "source": [
    "import numpy as np"
   ]
  },
  {
   "cell_type": "code",
   "execution_count": 27,
   "metadata": {},
   "outputs": [
    {
     "ename": "ModuleNotFoundError",
     "evalue": "No module named 'utils'",
     "output_type": "error",
     "traceback": [
      "\u001b[0;31m---------------------------------------------------------------------------\u001b[0m",
      "\u001b[0;31mModuleNotFoundError\u001b[0m                       Traceback (most recent call last)",
      "\u001b[0;32m<ipython-input-27-48704a129741>\u001b[0m in \u001b[0;36m<module>\u001b[0;34m\u001b[0m\n\u001b[0;32m----> 1\u001b[0;31m \u001b[0;32mfrom\u001b[0m \u001b[0mutils\u001b[0m \u001b[0;32mimport\u001b[0m \u001b[0mgenerate_class_weights\u001b[0m\u001b[0;34m\u001b[0m\u001b[0;34m\u001b[0m\u001b[0m\n\u001b[0m",
      "\u001b[0;31mModuleNotFoundError\u001b[0m: No module named 'utils'"
     ]
    }
   ],
   "source": [
    "from utils import generate_class_weights"
   ]
  },
  {
   "cell_type": "code",
   "execution_count": null,
   "metadata": {},
   "outputs": [],
   "source": [
    "y_train_1.values"
   ]
  },
  {
   "cell_type": "code",
   "execution_count": null,
   "metadata": {},
   "outputs": [],
   "source": []
  },
  {
   "cell_type": "code",
   "execution_count": null,
   "metadata": {},
   "outputs": [],
   "source": [
    "generate_class_weights(y_train_1.values, multi_class=True, one_hot_encoded=False)"
   ]
  },
  {
   "cell_type": "code",
   "execution_count": null,
   "metadata": {},
   "outputs": [],
   "source": []
  },
  {
   "cell_type": "code",
   "execution_count": null,
   "metadata": {},
   "outputs": [],
   "source": []
  }
 ],
 "metadata": {
  "kernelspec": {
   "display_name": "tensorflow",
   "language": "python",
   "name": "tf"
  },
  "language_info": {
   "codemirror_mode": {
    "name": "ipython",
    "version": 3
   },
   "file_extension": ".py",
   "mimetype": "text/x-python",
   "name": "python",
   "nbconvert_exporter": "python",
   "pygments_lexer": "ipython3",
   "version": "3.7.10"
  }
 },
 "nbformat": 4,
 "nbformat_minor": 4
}
