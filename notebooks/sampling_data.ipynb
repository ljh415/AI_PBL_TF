{
 "cells": [
  {
   "cell_type": "markdown",
   "metadata": {},
   "source": [
    "# sampling_data.ipynb\n",
    "---\n",
    "현재 학습데이터가 너무 많기에 학습데이터를 sampling하는 전처리 추가  "
   ]
  },
  {
   "cell_type": "code",
   "execution_count": 1,
   "metadata": {},
   "outputs": [],
   "source": [
    "import os\n",
    "import sys\n",
    "import json\n",
    "import pandas as pd\n",
    "\n",
    "from tqdm import tqdm\n",
    "from glob import glob\n",
    "from collections import defaultdict"
   ]
  },
  {
   "cell_type": "markdown",
   "metadata": {},
   "source": [
    "## 현재 학습데이터 로드"
   ]
  },
  {
   "cell_type": "code",
   "execution_count": 2,
   "metadata": {},
   "outputs": [],
   "source": [
    "train_df = pd.read_csv('../data/train.csv')"
   ]
  },
  {
   "cell_type": "code",
   "execution_count": 3,
   "metadata": {},
   "outputs": [
    {
     "data": {
      "text/html": [
       "<div>\n",
       "<style scoped>\n",
       "    .dataframe tbody tr th:only-of-type {\n",
       "        vertical-align: middle;\n",
       "    }\n",
       "\n",
       "    .dataframe tbody tr th {\n",
       "        vertical-align: top;\n",
       "    }\n",
       "\n",
       "    .dataframe thead th {\n",
       "        text-align: right;\n",
       "    }\n",
       "</style>\n",
       "<table border=\"1\" class=\"dataframe\">\n",
       "  <thead>\n",
       "    <tr style=\"text-align: right;\">\n",
       "      <th></th>\n",
       "      <th>image_path</th>\n",
       "      <th>bbox</th>\n",
       "      <th>labels</th>\n",
       "    </tr>\n",
       "  </thead>\n",
       "  <tbody>\n",
       "    <tr>\n",
       "      <th>0</th>\n",
       "      <td>/media/jaeho/SSD/datasets/pet_data/train/cat/i...</td>\n",
       "      <td>401,441,431,435</td>\n",
       "      <td>화남/불쾌</td>\n",
       "    </tr>\n",
       "    <tr>\n",
       "      <th>1</th>\n",
       "      <td>/media/jaeho/SSD/datasets/pet_data/train/cat/i...</td>\n",
       "      <td>358,447,472,443</td>\n",
       "      <td>화남/불쾌</td>\n",
       "    </tr>\n",
       "    <tr>\n",
       "      <th>2</th>\n",
       "      <td>/media/jaeho/SSD/datasets/pet_data/train/cat/i...</td>\n",
       "      <td>358,445,472,445</td>\n",
       "      <td>화남/불쾌</td>\n",
       "    </tr>\n",
       "    <tr>\n",
       "      <th>3</th>\n",
       "      <td>/media/jaeho/SSD/datasets/pet_data/train/cat/i...</td>\n",
       "      <td>428,183,704,749</td>\n",
       "      <td>화남/불쾌</td>\n",
       "    </tr>\n",
       "    <tr>\n",
       "      <th>4</th>\n",
       "      <td>/media/jaeho/SSD/datasets/pet_data/train/cat/i...</td>\n",
       "      <td>512,22,621,880</td>\n",
       "      <td>화남/불쾌</td>\n",
       "    </tr>\n",
       "    <tr>\n",
       "      <th>...</th>\n",
       "      <td>...</td>\n",
       "      <td>...</td>\n",
       "      <td>...</td>\n",
       "    </tr>\n",
       "    <tr>\n",
       "      <th>2127957</th>\n",
       "      <td>/media/jaeho/SSD/datasets/pet_data/train/dog/i...</td>\n",
       "      <td>412,43,1096,1011</td>\n",
       "      <td>행복/즐거움</td>\n",
       "    </tr>\n",
       "    <tr>\n",
       "      <th>2127958</th>\n",
       "      <td>/media/jaeho/SSD/datasets/pet_data/train/dog/i...</td>\n",
       "      <td>524,102,1094,949</td>\n",
       "      <td>행복/즐거움</td>\n",
       "    </tr>\n",
       "    <tr>\n",
       "      <th>2127959</th>\n",
       "      <td>/media/jaeho/SSD/datasets/pet_data/train/dog/i...</td>\n",
       "      <td>541,410,974,550</td>\n",
       "      <td>행복/즐거움</td>\n",
       "    </tr>\n",
       "    <tr>\n",
       "      <th>2127960</th>\n",
       "      <td>/media/jaeho/SSD/datasets/pet_data/train/dog/i...</td>\n",
       "      <td>517,342,976,532</td>\n",
       "      <td>행복/즐거움</td>\n",
       "    </tr>\n",
       "    <tr>\n",
       "      <th>2127961</th>\n",
       "      <td>/media/jaeho/SSD/datasets/pet_data/train/dog/i...</td>\n",
       "      <td>505,233,994,533</td>\n",
       "      <td>행복/즐거움</td>\n",
       "    </tr>\n",
       "  </tbody>\n",
       "</table>\n",
       "<p>2127962 rows × 3 columns</p>\n",
       "</div>"
      ],
      "text/plain": [
       "                                                image_path              bbox  \\\n",
       "0        /media/jaeho/SSD/datasets/pet_data/train/cat/i...   401,441,431,435   \n",
       "1        /media/jaeho/SSD/datasets/pet_data/train/cat/i...   358,447,472,443   \n",
       "2        /media/jaeho/SSD/datasets/pet_data/train/cat/i...   358,445,472,445   \n",
       "3        /media/jaeho/SSD/datasets/pet_data/train/cat/i...   428,183,704,749   \n",
       "4        /media/jaeho/SSD/datasets/pet_data/train/cat/i...    512,22,621,880   \n",
       "...                                                    ...               ...   \n",
       "2127957  /media/jaeho/SSD/datasets/pet_data/train/dog/i...  412,43,1096,1011   \n",
       "2127958  /media/jaeho/SSD/datasets/pet_data/train/dog/i...  524,102,1094,949   \n",
       "2127959  /media/jaeho/SSD/datasets/pet_data/train/dog/i...   541,410,974,550   \n",
       "2127960  /media/jaeho/SSD/datasets/pet_data/train/dog/i...   517,342,976,532   \n",
       "2127961  /media/jaeho/SSD/datasets/pet_data/train/dog/i...   505,233,994,533   \n",
       "\n",
       "         labels  \n",
       "0         화남/불쾌  \n",
       "1         화남/불쾌  \n",
       "2         화남/불쾌  \n",
       "3         화남/불쾌  \n",
       "4         화남/불쾌  \n",
       "...         ...  \n",
       "2127957  행복/즐거움  \n",
       "2127958  행복/즐거움  \n",
       "2127959  행복/즐거움  \n",
       "2127960  행복/즐거움  \n",
       "2127961  행복/즐거움  \n",
       "\n",
       "[2127962 rows x 3 columns]"
      ]
     },
     "execution_count": 3,
     "metadata": {},
     "output_type": "execute_result"
    }
   ],
   "source": [
    "train_df"
   ]
  },
  {
   "cell_type": "markdown",
   "metadata": {},
   "source": [
    "총 데이터 212만장"
   ]
  },
  {
   "cell_type": "code",
   "execution_count": 4,
   "metadata": {},
   "outputs": [
    {
     "data": {
      "text/plain": [
       "{0: '화남/불쾌', 1: '공포', 2: '행복/즐거움', 3: '편안/안정', 4: '공격성', 5: '불안/슬픔'}"
      ]
     },
     "execution_count": 4,
     "metadata": {},
     "output_type": "execute_result"
    }
   ],
   "source": [
    "label_map = train_df['labels'].unique()\n",
    "label_map = {idx:label for idx, label in enumerate(label_map)}\n",
    "label_map"
   ]
  },
  {
   "cell_type": "code",
   "execution_count": 5,
   "metadata": {},
   "outputs": [
    {
     "data": {
      "text/plain": [
       "{'화남/불쾌': 0, '공포': 1, '행복/즐거움': 2, '편안/안정': 3, '공격성': 4, '불안/슬픔': 5}"
      ]
     },
     "execution_count": 5,
     "metadata": {},
     "output_type": "execute_result"
    }
   ],
   "source": [
    "inverted_label_map = train_df['labels'].unique()\n",
    "inverted_label_map = {label:idx for idx, label in enumerate(inverted_label_map)}\n",
    "inverted_label_map"
   ]
  },
  {
   "cell_type": "code",
   "execution_count": 6,
   "metadata": {},
   "outputs": [
    {
     "name": "stderr",
     "output_type": "stream",
     "text": [
      "100%|██████████| 2127962/2127962 [01:05<00:00, 32408.47it/s]\n"
     ]
    }
   ],
   "source": [
    "data_dict = defaultdict(list)\n",
    "for idx, row in tqdm(train_df.iterrows(), total=len(train_df)):\n",
    "    label = row['labels']\n",
    "    int_label = inverted_label_map[label]\n",
    "    data_dict[int_label].append(dict(row))"
   ]
  },
  {
   "cell_type": "code",
   "execution_count": 7,
   "metadata": {},
   "outputs": [
    {
     "data": {
      "text/plain": [
       "dict_keys([0, 1, 2, 3, 4, 5])"
      ]
     },
     "execution_count": 7,
     "metadata": {},
     "output_type": "execute_result"
    }
   ],
   "source": [
    "data_dict.keys()"
   ]
  },
  {
   "cell_type": "code",
   "execution_count": 8,
   "metadata": {},
   "outputs": [
    {
     "name": "stdout",
     "output_type": "stream",
     "text": [
      "0 : 74578\n",
      "1 : 4795\n",
      "2 : 515248\n",
      "3 : 1364794\n",
      "4 : 115619\n",
      "5 : 52928\n"
     ]
    }
   ],
   "source": [
    "for label, data_list in data_dict.items():\n",
    "    print(f\"{label} : {len(data_list)}\")"
   ]
  },
  {
   "cell_type": "markdown",
   "metadata": {},
   "source": [
    "데이터의 imbalance가 심하다.  \n",
    "class_weight가 있어서 활용 가능할 듯  \n",
    "[링크](https://www.tensorflow.org/tutorials/structured_data/imbalanced_data?hl=ko)"
   ]
  },
  {
   "cell_type": "markdown",
   "metadata": {},
   "source": [
    "랜덤하게 샘플링하기위해서 사이킷런 활용"
   ]
  },
  {
   "cell_type": "code",
   "execution_count": 9,
   "metadata": {},
   "outputs": [],
   "source": [
    "train_df['labels'] = train_df['labels'].apply(lambda x: inverted_label_map[x])"
   ]
  },
  {
   "cell_type": "code",
   "execution_count": 10,
   "metadata": {},
   "outputs": [
    {
     "data": {
      "text/html": [
       "<div>\n",
       "<style scoped>\n",
       "    .dataframe tbody tr th:only-of-type {\n",
       "        vertical-align: middle;\n",
       "    }\n",
       "\n",
       "    .dataframe tbody tr th {\n",
       "        vertical-align: top;\n",
       "    }\n",
       "\n",
       "    .dataframe thead th {\n",
       "        text-align: right;\n",
       "    }\n",
       "</style>\n",
       "<table border=\"1\" class=\"dataframe\">\n",
       "  <thead>\n",
       "    <tr style=\"text-align: right;\">\n",
       "      <th></th>\n",
       "      <th>image_path</th>\n",
       "      <th>bbox</th>\n",
       "      <th>labels</th>\n",
       "    </tr>\n",
       "  </thead>\n",
       "  <tbody>\n",
       "    <tr>\n",
       "      <th>0</th>\n",
       "      <td>/media/jaeho/SSD/datasets/pet_data/train/cat/i...</td>\n",
       "      <td>401,441,431,435</td>\n",
       "      <td>0</td>\n",
       "    </tr>\n",
       "    <tr>\n",
       "      <th>1</th>\n",
       "      <td>/media/jaeho/SSD/datasets/pet_data/train/cat/i...</td>\n",
       "      <td>358,447,472,443</td>\n",
       "      <td>0</td>\n",
       "    </tr>\n",
       "    <tr>\n",
       "      <th>2</th>\n",
       "      <td>/media/jaeho/SSD/datasets/pet_data/train/cat/i...</td>\n",
       "      <td>358,445,472,445</td>\n",
       "      <td>0</td>\n",
       "    </tr>\n",
       "    <tr>\n",
       "      <th>3</th>\n",
       "      <td>/media/jaeho/SSD/datasets/pet_data/train/cat/i...</td>\n",
       "      <td>428,183,704,749</td>\n",
       "      <td>0</td>\n",
       "    </tr>\n",
       "    <tr>\n",
       "      <th>4</th>\n",
       "      <td>/media/jaeho/SSD/datasets/pet_data/train/cat/i...</td>\n",
       "      <td>512,22,621,880</td>\n",
       "      <td>0</td>\n",
       "    </tr>\n",
       "  </tbody>\n",
       "</table>\n",
       "</div>"
      ],
      "text/plain": [
       "                                          image_path             bbox  labels\n",
       "0  /media/jaeho/SSD/datasets/pet_data/train/cat/i...  401,441,431,435       0\n",
       "1  /media/jaeho/SSD/datasets/pet_data/train/cat/i...  358,447,472,443       0\n",
       "2  /media/jaeho/SSD/datasets/pet_data/train/cat/i...  358,445,472,445       0\n",
       "3  /media/jaeho/SSD/datasets/pet_data/train/cat/i...  428,183,704,749       0\n",
       "4  /media/jaeho/SSD/datasets/pet_data/train/cat/i...   512,22,621,880       0"
      ]
     },
     "execution_count": 10,
     "metadata": {},
     "output_type": "execute_result"
    }
   ],
   "source": [
    "train_df.head()"
   ]
  },
  {
   "cell_type": "code",
   "execution_count": 11,
   "metadata": {},
   "outputs": [],
   "source": [
    "from sklearn.model_selection import train_test_split"
   ]
  },
  {
   "cell_type": "code",
   "execution_count": 12,
   "metadata": {},
   "outputs": [],
   "source": [
    "x_train_1, x_train_2, y_train_1, y_train_2 = train_test_split(train_df[train_df.columns.difference(['labels'])], train_df['labels'], test_size=0.5, shuffle=True, stratify=train_df['labels'], random_state=94)"
   ]
  },
  {
   "cell_type": "code",
   "execution_count": 13,
   "metadata": {},
   "outputs": [
    {
     "data": {
      "text/plain": [
       "901100     2\n",
       "51620      2\n",
       "223245     2\n",
       "559228     3\n",
       "50098      2\n",
       "          ..\n",
       "928039     2\n",
       "352530     3\n",
       "1365016    2\n",
       "2012718    2\n",
       "579908     2\n",
       "Name: labels, Length: 1063981, dtype: int64"
      ]
     },
     "execution_count": 13,
     "metadata": {},
     "output_type": "execute_result"
    }
   ],
   "source": [
    "y_train_1"
   ]
  },
  {
   "cell_type": "code",
   "execution_count": 14,
   "metadata": {},
   "outputs": [
    {
     "data": {
      "text/html": [
       "<div>\n",
       "<style scoped>\n",
       "    .dataframe tbody tr th:only-of-type {\n",
       "        vertical-align: middle;\n",
       "    }\n",
       "\n",
       "    .dataframe tbody tr th {\n",
       "        vertical-align: top;\n",
       "    }\n",
       "\n",
       "    .dataframe thead th {\n",
       "        text-align: right;\n",
       "    }\n",
       "</style>\n",
       "<table border=\"1\" class=\"dataframe\">\n",
       "  <thead>\n",
       "    <tr style=\"text-align: right;\">\n",
       "      <th></th>\n",
       "      <th>bbox</th>\n",
       "      <th>image_path</th>\n",
       "      <th>labels</th>\n",
       "    </tr>\n",
       "  </thead>\n",
       "  <tbody>\n",
       "    <tr>\n",
       "      <th>901100</th>\n",
       "      <td>19,34,1900,1023</td>\n",
       "      <td>/media/jaeho/SSD/datasets/pet_data/train/cat/i...</td>\n",
       "      <td>2</td>\n",
       "    </tr>\n",
       "    <tr>\n",
       "      <th>51620</th>\n",
       "      <td>472,314,1445,702</td>\n",
       "      <td>/media/jaeho/SSD/datasets/pet_data/train/cat/i...</td>\n",
       "      <td>2</td>\n",
       "    </tr>\n",
       "    <tr>\n",
       "      <th>223245</th>\n",
       "      <td>739,34,1180,1009</td>\n",
       "      <td>/media/jaeho/SSD/datasets/pet_data/train/cat/i...</td>\n",
       "      <td>2</td>\n",
       "    </tr>\n",
       "    <tr>\n",
       "      <th>559228</th>\n",
       "      <td>260,70,794,475</td>\n",
       "      <td>/media/jaeho/SSD/datasets/pet_data/train/cat/i...</td>\n",
       "      <td>3</td>\n",
       "    </tr>\n",
       "    <tr>\n",
       "      <th>50098</th>\n",
       "      <td>683,511,749,502</td>\n",
       "      <td>/media/jaeho/SSD/datasets/pet_data/train/cat/i...</td>\n",
       "      <td>2</td>\n",
       "    </tr>\n",
       "    <tr>\n",
       "      <th>...</th>\n",
       "      <td>...</td>\n",
       "      <td>...</td>\n",
       "      <td>...</td>\n",
       "    </tr>\n",
       "    <tr>\n",
       "      <th>928039</th>\n",
       "      <td>237,4,1289,752</td>\n",
       "      <td>/media/jaeho/SSD/datasets/pet_data/train/cat/i...</td>\n",
       "      <td>2</td>\n",
       "    </tr>\n",
       "    <tr>\n",
       "      <th>352530</th>\n",
       "      <td>308,201,848,403</td>\n",
       "      <td>/media/jaeho/SSD/datasets/pet_data/train/cat/i...</td>\n",
       "      <td>3</td>\n",
       "    </tr>\n",
       "    <tr>\n",
       "      <th>1365016</th>\n",
       "      <td>298,97,572,731</td>\n",
       "      <td>/media/jaeho/SSD/datasets/pet_data/train/cat/i...</td>\n",
       "      <td>2</td>\n",
       "    </tr>\n",
       "    <tr>\n",
       "      <th>2012718</th>\n",
       "      <td>284,176,338,297</td>\n",
       "      <td>/media/jaeho/SSD/datasets/pet_data/train/dog/i...</td>\n",
       "      <td>2</td>\n",
       "    </tr>\n",
       "    <tr>\n",
       "      <th>579908</th>\n",
       "      <td>545,23,1131,698</td>\n",
       "      <td>/media/jaeho/SSD/datasets/pet_data/train/cat/i...</td>\n",
       "      <td>2</td>\n",
       "    </tr>\n",
       "  </tbody>\n",
       "</table>\n",
       "<p>1063981 rows × 3 columns</p>\n",
       "</div>"
      ],
      "text/plain": [
       "                     bbox                                         image_path  \\\n",
       "901100    19,34,1900,1023  /media/jaeho/SSD/datasets/pet_data/train/cat/i...   \n",
       "51620    472,314,1445,702  /media/jaeho/SSD/datasets/pet_data/train/cat/i...   \n",
       "223245   739,34,1180,1009  /media/jaeho/SSD/datasets/pet_data/train/cat/i...   \n",
       "559228     260,70,794,475  /media/jaeho/SSD/datasets/pet_data/train/cat/i...   \n",
       "50098     683,511,749,502  /media/jaeho/SSD/datasets/pet_data/train/cat/i...   \n",
       "...                   ...                                                ...   \n",
       "928039     237,4,1289,752  /media/jaeho/SSD/datasets/pet_data/train/cat/i...   \n",
       "352530    308,201,848,403  /media/jaeho/SSD/datasets/pet_data/train/cat/i...   \n",
       "1365016    298,97,572,731  /media/jaeho/SSD/datasets/pet_data/train/cat/i...   \n",
       "2012718   284,176,338,297  /media/jaeho/SSD/datasets/pet_data/train/dog/i...   \n",
       "579908    545,23,1131,698  /media/jaeho/SSD/datasets/pet_data/train/cat/i...   \n",
       "\n",
       "         labels  \n",
       "901100        2  \n",
       "51620         2  \n",
       "223245        2  \n",
       "559228        3  \n",
       "50098         2  \n",
       "...         ...  \n",
       "928039        2  \n",
       "352530        3  \n",
       "1365016       2  \n",
       "2012718       2  \n",
       "579908        2  \n",
       "\n",
       "[1063981 rows x 3 columns]"
      ]
     },
     "execution_count": 14,
     "metadata": {},
     "output_type": "execute_result"
    }
   ],
   "source": [
    "x_train_1['labels'] = y_train_1\n",
    "x_train_1"
   ]
  },
  {
   "cell_type": "code",
   "execution_count": 15,
   "metadata": {},
   "outputs": [],
   "source": [
    "x_train_1.to_csv('../data/sampled_train_1.csv', index=False)"
   ]
  },
  {
   "cell_type": "code",
   "execution_count": 16,
   "metadata": {},
   "outputs": [
    {
     "data": {
      "text/html": [
       "<div>\n",
       "<style scoped>\n",
       "    .dataframe tbody tr th:only-of-type {\n",
       "        vertical-align: middle;\n",
       "    }\n",
       "\n",
       "    .dataframe tbody tr th {\n",
       "        vertical-align: top;\n",
       "    }\n",
       "\n",
       "    .dataframe thead th {\n",
       "        text-align: right;\n",
       "    }\n",
       "</style>\n",
       "<table border=\"1\" class=\"dataframe\">\n",
       "  <thead>\n",
       "    <tr style=\"text-align: right;\">\n",
       "      <th></th>\n",
       "      <th>bbox</th>\n",
       "      <th>image_path</th>\n",
       "      <th>labels</th>\n",
       "    </tr>\n",
       "  </thead>\n",
       "  <tbody>\n",
       "    <tr>\n",
       "      <th>1937317</th>\n",
       "      <td>356,62,1065,1328</td>\n",
       "      <td>/media/jaeho/SSD/datasets/pet_data/train/dog/i...</td>\n",
       "      <td>3</td>\n",
       "    </tr>\n",
       "    <tr>\n",
       "      <th>2125714</th>\n",
       "      <td>426,341,123,64</td>\n",
       "      <td>/media/jaeho/SSD/datasets/pet_data/train/dog/i...</td>\n",
       "      <td>3</td>\n",
       "    </tr>\n",
       "    <tr>\n",
       "      <th>720986</th>\n",
       "      <td>176,278,1145,1117</td>\n",
       "      <td>/media/jaeho/SSD/datasets/pet_data/train/cat/i...</td>\n",
       "      <td>3</td>\n",
       "    </tr>\n",
       "    <tr>\n",
       "      <th>1036588</th>\n",
       "      <td>364,160,481,459</td>\n",
       "      <td>/media/jaeho/SSD/datasets/pet_data/train/cat/i...</td>\n",
       "      <td>3</td>\n",
       "    </tr>\n",
       "    <tr>\n",
       "      <th>980859</th>\n",
       "      <td>408,164,378,498</td>\n",
       "      <td>/media/jaeho/SSD/datasets/pet_data/train/cat/i...</td>\n",
       "      <td>0</td>\n",
       "    </tr>\n",
       "    <tr>\n",
       "      <th>...</th>\n",
       "      <td>...</td>\n",
       "      <td>...</td>\n",
       "      <td>...</td>\n",
       "    </tr>\n",
       "    <tr>\n",
       "      <th>1329378</th>\n",
       "      <td>162,42,765,508</td>\n",
       "      <td>/media/jaeho/SSD/datasets/pet_data/train/cat/i...</td>\n",
       "      <td>2</td>\n",
       "    </tr>\n",
       "    <tr>\n",
       "      <th>1106158</th>\n",
       "      <td>373,100,416,549</td>\n",
       "      <td>/media/jaeho/SSD/datasets/pet_data/train/cat/i...</td>\n",
       "      <td>3</td>\n",
       "    </tr>\n",
       "    <tr>\n",
       "      <th>1075416</th>\n",
       "      <td>627,162,515,671</td>\n",
       "      <td>/media/jaeho/SSD/datasets/pet_data/train/cat/i...</td>\n",
       "      <td>3</td>\n",
       "    </tr>\n",
       "    <tr>\n",
       "      <th>844498</th>\n",
       "      <td>122,189,655,851</td>\n",
       "      <td>/media/jaeho/SSD/datasets/pet_data/train/cat/i...</td>\n",
       "      <td>3</td>\n",
       "    </tr>\n",
       "    <tr>\n",
       "      <th>778922</th>\n",
       "      <td>449,10,403,689</td>\n",
       "      <td>/media/jaeho/SSD/datasets/pet_data/train/cat/i...</td>\n",
       "      <td>3</td>\n",
       "    </tr>\n",
       "  </tbody>\n",
       "</table>\n",
       "<p>1063981 rows × 3 columns</p>\n",
       "</div>"
      ],
      "text/plain": [
       "                      bbox                                         image_path  \\\n",
       "1937317   356,62,1065,1328  /media/jaeho/SSD/datasets/pet_data/train/dog/i...   \n",
       "2125714     426,341,123,64  /media/jaeho/SSD/datasets/pet_data/train/dog/i...   \n",
       "720986   176,278,1145,1117  /media/jaeho/SSD/datasets/pet_data/train/cat/i...   \n",
       "1036588    364,160,481,459  /media/jaeho/SSD/datasets/pet_data/train/cat/i...   \n",
       "980859     408,164,378,498  /media/jaeho/SSD/datasets/pet_data/train/cat/i...   \n",
       "...                    ...                                                ...   \n",
       "1329378     162,42,765,508  /media/jaeho/SSD/datasets/pet_data/train/cat/i...   \n",
       "1106158    373,100,416,549  /media/jaeho/SSD/datasets/pet_data/train/cat/i...   \n",
       "1075416    627,162,515,671  /media/jaeho/SSD/datasets/pet_data/train/cat/i...   \n",
       "844498     122,189,655,851  /media/jaeho/SSD/datasets/pet_data/train/cat/i...   \n",
       "778922      449,10,403,689  /media/jaeho/SSD/datasets/pet_data/train/cat/i...   \n",
       "\n",
       "         labels  \n",
       "1937317       3  \n",
       "2125714       3  \n",
       "720986        3  \n",
       "1036588       3  \n",
       "980859        0  \n",
       "...         ...  \n",
       "1329378       2  \n",
       "1106158       3  \n",
       "1075416       3  \n",
       "844498        3  \n",
       "778922        3  \n",
       "\n",
       "[1063981 rows x 3 columns]"
      ]
     },
     "execution_count": 16,
     "metadata": {},
     "output_type": "execute_result"
    }
   ],
   "source": [
    "x_train_2['labels'] = y_train_2\n",
    "x_train_2"
   ]
  },
  {
   "cell_type": "code",
   "execution_count": 17,
   "metadata": {},
   "outputs": [],
   "source": [
    "x_train_2.to_csv('../data/sampled_train_2.csv', index=False)"
   ]
  },
  {
   "cell_type": "code",
   "execution_count": null,
   "metadata": {},
   "outputs": [],
   "source": []
  },
  {
   "cell_type": "code",
   "execution_count": null,
   "metadata": {},
   "outputs": [],
   "source": []
  },
  {
   "cell_type": "code",
   "execution_count": 26,
   "metadata": {},
   "outputs": [],
   "source": [
    "import numpy as np"
   ]
  },
  {
   "cell_type": "code",
   "execution_count": 27,
   "metadata": {},
   "outputs": [
    {
     "ename": "ModuleNotFoundError",
     "evalue": "No module named 'utils'",
     "output_type": "error",
     "traceback": [
      "\u001b[0;31m---------------------------------------------------------------------------\u001b[0m",
      "\u001b[0;31mModuleNotFoundError\u001b[0m                       Traceback (most recent call last)",
      "\u001b[0;32m<ipython-input-27-48704a129741>\u001b[0m in \u001b[0;36m<module>\u001b[0;34m\u001b[0m\n\u001b[0;32m----> 1\u001b[0;31m \u001b[0;32mfrom\u001b[0m \u001b[0mutils\u001b[0m \u001b[0;32mimport\u001b[0m \u001b[0mgenerate_class_weights\u001b[0m\u001b[0;34m\u001b[0m\u001b[0;34m\u001b[0m\u001b[0m\n\u001b[0m",
      "\u001b[0;31mModuleNotFoundError\u001b[0m: No module named 'utils'"
     ]
    }
   ],
   "source": [
    "from utils import generate_class_weights"
   ]
  },
  {
   "cell_type": "code",
   "execution_count": null,
   "metadata": {},
   "outputs": [],
   "source": [
    "y_train_1.values"
   ]
  },
  {
   "cell_type": "code",
   "execution_count": null,
   "metadata": {},
   "outputs": [],
   "source": []
  },
  {
   "cell_type": "code",
   "execution_count": null,
   "metadata": {},
   "outputs": [],
   "source": [
    "generate_class_weights(y_train_1.values, multi_class=True, one_hot_encoded=False)"
   ]
  },
  {
   "cell_type": "code",
   "execution_count": null,
   "metadata": {},
   "outputs": [],
   "source": []
  },
  {
   "cell_type": "code",
   "execution_count": null,
   "metadata": {},
   "outputs": [],
   "source": []
  }
 ],
 "metadata": {
  "kernelspec": {
   "display_name": "tensorflow",
   "language": "python",
   "name": "tf"
  },
  "language_info": {
   "codemirror_mode": {
    "name": "ipython",
    "version": 3
   },
   "file_extension": ".py",
   "mimetype": "text/x-python",
   "name": "python",
   "nbconvert_exporter": "python",
   "pygments_lexer": "ipython3",
   "version": "3.7.10"
  }
 },
 "nbformat": 4,
 "nbformat_minor": 4
}
